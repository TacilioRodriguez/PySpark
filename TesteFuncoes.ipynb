{
  "nbformat": 4,
  "nbformat_minor": 0,
  "metadata": {
    "colab": {
      "name": "TesteFuncoes.ipynb",
      "provenance": [],
      "authorship_tag": "ABX9TyPXcZA1LM9DVVqwRPiBI0q2",
      "include_colab_link": true
    },
    "kernelspec": {
      "name": "python3",
      "display_name": "Python 3"
    },
    "language_info": {
      "name": "python"
    }
  },
  "cells": [
    {
      "cell_type": "markdown",
      "metadata": {
        "id": "view-in-github",
        "colab_type": "text"
      },
      "source": [
        "<a href=\"https://colab.research.google.com/github/TacilioRodriguez/PySpark/blob/main/TesteFuncoes.ipynb\" target=\"_parent\"><img src=\"https://colab.research.google.com/assets/colab-badge.svg\" alt=\"Open In Colab\"/></a>"
      ]
    },
    {
      "cell_type": "code",
      "metadata": {
        "colab": {
          "base_uri": "https://localhost:8080/"
        },
        "id": "arI8HHCPQK_I",
        "outputId": "9418178b-baf0-47e7-ed6f-0ac4e83d18a3"
      },
      "source": [
        "pip install pyspark"
      ],
      "execution_count": 1,
      "outputs": [
        {
          "output_type": "stream",
          "name": "stdout",
          "text": [
            "Collecting pyspark\n",
            "  Downloading pyspark-3.1.2.tar.gz (212.4 MB)\n",
            "\u001b[K     |████████████████████████████████| 212.4 MB 65 kB/s \n",
            "\u001b[?25hCollecting py4j==0.10.9\n",
            "  Downloading py4j-0.10.9-py2.py3-none-any.whl (198 kB)\n",
            "\u001b[K     |████████████████████████████████| 198 kB 63.3 MB/s \n",
            "\u001b[?25hBuilding wheels for collected packages: pyspark\n",
            "  Building wheel for pyspark (setup.py) ... \u001b[?25l\u001b[?25hdone\n",
            "  Created wheel for pyspark: filename=pyspark-3.1.2-py2.py3-none-any.whl size=212880768 sha256=2bdbc18eef8fe0297856306b588b6c391e4dd7442a17ee5eb02cbc1ae82de576\n",
            "  Stored in directory: /root/.cache/pip/wheels/a5/0a/c1/9561f6fecb759579a7d863dcd846daaa95f598744e71b02c77\n",
            "Successfully built pyspark\n",
            "Installing collected packages: py4j, pyspark\n",
            "Successfully installed py4j-0.10.9 pyspark-3.1.2\n"
          ]
        }
      ]
    },
    {
      "cell_type": "code",
      "metadata": {
        "id": "FkQxkxZyQO6A"
      },
      "source": [
        "from pyspark.sql import SparkSession\n"
      ],
      "execution_count": 2,
      "outputs": []
    },
    {
      "cell_type": "code",
      "metadata": {
        "id": "bm0RoIoPQ0nJ"
      },
      "source": [
        "spark = SparkSession.builder.appName('Aluno').getOrCreate()\n"
      ],
      "execution_count": 3,
      "outputs": []
    },
    {
      "cell_type": "code",
      "metadata": {
        "id": "i12CKJn8RnEL"
      },
      "source": [
        "df_alunos = spark.read.csv('ALUNOS.csv', header=True , sep=(';'))"
      ],
      "execution_count": 5,
      "outputs": []
    },
    {
      "cell_type": "code",
      "metadata": {
        "colab": {
          "base_uri": "https://localhost:8080/"
        },
        "id": "NYYosKELRuaM",
        "outputId": "4a33e2ae-a550-41d1-9e23-3adb04f65b6a"
      },
      "source": [
        "df_alunos.show()"
      ],
      "execution_count": 31,
      "outputs": [
        {
          "output_type": "stream",
          "name": "stdout",
          "text": [
            "+--------+------------------+----------+----+-------------+--------------+\n",
            "|ID_ALUNO|         NME_ALUNO|   DTA_NSC|SEXO|DTA_CADASTROS|LOGIN_CADASTRO|\n",
            "+--------+------------------+----------+----+-------------+--------------+\n",
            "|       1| Tacilio Rodrigues|28/11/1993|   M|   07/06/2020|       TACILIO|\n",
            "|       2|Tarcisio Rodrigues|27/04/1992|   M|   07/06/2020|       TACILIO|\n",
            "|       3|       Sil Pereira|25/09/1990|   F|   07/06/2020|       TACILIO|\n",
            "|       4|       Cid Pereira|22/02/1989|   F|   07/06/2020|       TACILIO|\n",
            "|       5|    Gabriel Hanson|23/07/1987|   M|   07/06/2020|       TACILIO|\n",
            "|       6| Gabriela Oliveira|20/12/1985|   F|   07/06/2020|       TACILIO|\n",
            "|       7|      Renada Avila|19/05/1984|   F|   07/06/2020|       TACILIO|\n",
            "|       8| Sanderson Pereira|17/10/1982|   M|   07/06/2020|       TACILIO|\n",
            "|       9|      Alison Silva|16/03/1981|   M|   07/06/2020|       TACILIO|\n",
            "|      10|     Silvia Alonso|14/08/1979|   F|   07/06/2020|       TACILIO|\n",
            "|      11|       Fabio Paiva|11/01/1978|   M|   07/06/2020|       TACILIO|\n",
            "|      12|       Andre Costa|10/06/1976|   M|   07/06/2020|       TACILIO|\n",
            "|      13|  Fabiano de Jesus|08/11/1974|   M|   07/06/2020|       TACILIO|\n",
            "|      14| Alicia Biterncurt|07/04/1973|   F|   07/06/2020|       TACILIO|\n",
            "|      15|     Alice Cardoso|05/09/1971|   F|   07/06/2020|       TACILIO|\n",
            "|      16|  Raquel Mantovani|02/02/1970|   F|   07/06/2020|       TACILIO|\n",
            "|      17|   Julia Thancredi|02/07/1968|   F|   07/06/2020|       TACILIO|\n",
            "|      18|     Dalida Monval|30/11/1966|   F|   07/06/2020|       TACILIO|\n",
            "|      19| Heloisa Rodrigues|29/04/1965|   F|   07/06/2020|       TACILIO|\n",
            "|      20|       Lucia Flora|27/09/1963|   F|   07/06/2020|       TACILIO|\n",
            "+--------+------------------+----------+----+-------------+--------------+\n",
            "only showing top 20 rows\n",
            "\n"
          ]
        }
      ]
    },
    {
      "cell_type": "code",
      "metadata": {
        "colab": {
          "base_uri": "https://localhost:8080/"
        },
        "id": "9LGi79WLSJ0R",
        "outputId": "c2719261-7148-4abf-b4f9-4ba7f0e0a899"
      },
      "source": [
        "df_alunos.describe().show()"
      ],
      "execution_count": 7,
      "outputs": [
        {
          "output_type": "stream",
          "name": "stdout",
          "text": [
            "+-------+------------------+-------------+----------+----+-------------+--------------+\n",
            "|summary|          ID_ALUNO|    NME_ALUNO|   DTA_NSC|SEXO|DTA_CADASTROS|LOGIN_CADASTRO|\n",
            "+-------+------------------+-------------+----------+----+-------------+--------------+\n",
            "|  count|               817|          817|       817| 817|          817|           817|\n",
            "|   mean|             409.0|         null|      null|null|         null|          null|\n",
            "| stddev|235.99187839132657|         null|      null|null|         null|          null|\n",
            "|    min|                 1|Abigail Elias|01/01/1991|   F|   01/01/2021|       TACILIO|\n",
            "|    max|                99|  Vitor Sarro|31/12/2000|   M|   31/12/2021|       TACILIO|\n",
            "+-------+------------------+-------------+----------+----+-------------+--------------+\n",
            "\n"
          ]
        }
      ]
    },
    {
      "cell_type": "code",
      "metadata": {
        "colab": {
          "base_uri": "https://localhost:8080/"
        },
        "id": "eZqJgQ0C81aV",
        "outputId": "82540ad4-267d-487e-cdad-11a9efbe283c"
      },
      "source": [
        "df_alunos.printSchema()"
      ],
      "execution_count": 8,
      "outputs": [
        {
          "output_type": "stream",
          "name": "stdout",
          "text": [
            "root\n",
            " |-- ID_ALUNO: string (nullable = true)\n",
            " |-- NME_ALUNO: string (nullable = true)\n",
            " |-- DTA_NSC: string (nullable = true)\n",
            " |-- SEXO: string (nullable = true)\n",
            " |-- DTA_CADASTROS: string (nullable = true)\n",
            " |-- LOGIN_CADASTRO: string (nullable = true)\n",
            "\n"
          ]
        }
      ]
    },
    {
      "cell_type": "code",
      "metadata": {
        "colab": {
          "base_uri": "https://localhost:8080/"
        },
        "id": "0POrt_oB9Vpl",
        "outputId": "a96889ef-cfba-41ac-804f-ef568c76b2a0"
      },
      "source": [
        "df_alunos.columns"
      ],
      "execution_count": 9,
      "outputs": [
        {
          "output_type": "execute_result",
          "data": {
            "text/plain": [
              "['ID_ALUNO', 'NME_ALUNO', 'DTA_NSC', 'SEXO', 'DTA_CADASTROS', 'LOGIN_CADASTRO']"
            ]
          },
          "metadata": {},
          "execution_count": 9
        }
      ]
    },
    {
      "cell_type": "code",
      "metadata": {
        "colab": {
          "base_uri": "https://localhost:8080/"
        },
        "id": "21PjrCNd9aWr",
        "outputId": "7e884d63-73d6-49a9-e21b-fc4b37a92688"
      },
      "source": [
        "df_alunos.orderBy('ID_ALUNO').describe().show()"
      ],
      "execution_count": 10,
      "outputs": [
        {
          "output_type": "stream",
          "name": "stdout",
          "text": [
            "+-------+------------------+-------------+----------+----+-------------+--------------+\n",
            "|summary|          ID_ALUNO|    NME_ALUNO|   DTA_NSC|SEXO|DTA_CADASTROS|LOGIN_CADASTRO|\n",
            "+-------+------------------+-------------+----------+----+-------------+--------------+\n",
            "|  count|               817|          817|       817| 817|          817|           817|\n",
            "|   mean|             409.0|         null|      null|null|         null|          null|\n",
            "| stddev|235.99187839132657|         null|      null|null|         null|          null|\n",
            "|    min|                 1|Abigail Elias|01/01/1991|   F|   01/01/2021|       TACILIO|\n",
            "|    max|                99|  Vitor Sarro|31/12/2000|   M|   31/12/2021|       TACILIO|\n",
            "+-------+------------------+-------------+----------+----+-------------+--------------+\n",
            "\n"
          ]
        }
      ]
    },
    {
      "cell_type": "code",
      "metadata": {
        "id": "wJf8pQNS9hcv"
      },
      "source": [
        "from pyspark.sql.types import *"
      ],
      "execution_count": 11,
      "outputs": []
    },
    {
      "cell_type": "code",
      "metadata": {
        "id": "eaQYvBwcZkGk"
      },
      "source": [
        "data_schema = [StructField('ID_ALUNO', IntegerType(), True )]"
      ],
      "execution_count": 13,
      "outputs": []
    },
    {
      "cell_type": "code",
      "metadata": {
        "id": "uUGaBLmzZ7ja"
      },
      "source": [
        "final_struc = StructType(fields=data_schema)"
      ],
      "execution_count": 19,
      "outputs": []
    },
    {
      "cell_type": "code",
      "metadata": {
        "id": "ql3yxSyxauSL"
      },
      "source": [
        "df_alunos.write.parquet('Arquivos')"
      ],
      "execution_count": 21,
      "outputs": []
    },
    {
      "cell_type": "code",
      "metadata": {
        "id": "K9dzFwtya9l6"
      },
      "source": [
        "df_parquet = spark.read.parquet('Arquivos')"
      ],
      "execution_count": 22,
      "outputs": []
    },
    {
      "cell_type": "code",
      "metadata": {
        "colab": {
          "base_uri": "https://localhost:8080/"
        },
        "id": "sRIuiaDQbC-e",
        "outputId": "c566eabf-2fe5-4cb0-d3f9-2d39c4e6e45b"
      },
      "source": [
        "df_parquet.show(5, False)"
      ],
      "execution_count": 30,
      "outputs": [
        {
          "output_type": "stream",
          "name": "stdout",
          "text": [
            "+--------+------------------+----------+----+-------------+--------------+\n",
            "|ID_ALUNO|NME_ALUNO         |DTA_NSC   |SEXO|DTA_CADASTROS|LOGIN_CADASTRO|\n",
            "+--------+------------------+----------+----+-------------+--------------+\n",
            "|1       |Tacilio Rodrigues |28/11/1993|M   |07/06/2020   |TACILIO       |\n",
            "|2       |Tarcisio Rodrigues|27/04/1992|M   |07/06/2020   |TACILIO       |\n",
            "|3       |Sil Pereira       |25/09/1990|F   |07/06/2020   |TACILIO       |\n",
            "|4       |Cid Pereira       |22/02/1989|F   |07/06/2020   |TACILIO       |\n",
            "|5       |Gabriel Hanson    |23/07/1987|M   |07/06/2020   |TACILIO       |\n",
            "+--------+------------------+----------+----+-------------+--------------+\n",
            "only showing top 5 rows\n",
            "\n"
          ]
        }
      ]
    }
  ]
}